{
 "cells": [
  {
   "cell_type": "code",
   "execution_count": 7,
   "id": "7cb80c9d-e077-4271-bbe6-ece16bb4ae96",
   "metadata": {},
   "outputs": [],
   "source": [
    "import pandas as pd\n",
    "import numpy as np\n",
    "import matplotlib.pyplot as plt\n",
    "from time import gmtime, strftime\n",
    "import json\n",
    "import arff\n",
    "import csv                             \n",
    "from io import StringIO\n",
    "import requests, zipfile\n",
    "from IPython.display import Image\n",
    "from IPython.display import display  \n",
    "import sys                                              \n",
    "import math                                             \n",
    "#Import SKlearn classifiers\n",
    "from sklearn.svm import SVC\n",
    "from sklearn.model_selection import GridSearchCV\n",
    "from sklearn.metrics import accuracy_score \n",
    "import os\n",
    "import urllib.request\n",
    "\n",
    "#SQL Reading\n",
    "import pyodbc\n",
    "import azure as az"
   ]
  },
  {
   "cell_type": "code",
   "execution_count": 2,
   "id": "af371af9-8c1e-4cf0-8a1c-278e5d7136f1",
   "metadata": {},
   "outputs": [
    {
     "name": "stdout",
     "output_type": "stream",
     "text": [
      "C:\\Users\\wvanbuskir002\\Documents\\Azure - Demos\\Machine-Learning-Medium\n"
     ]
    }
   ],
   "source": [
    "curr_path = os.getcwd()\n",
    "print(curr_path)"
   ]
  },
  {
   "cell_type": "code",
   "execution_count": 3,
   "id": "03905e0d-4476-4296-a9f5-74884ebca73d",
   "metadata": {},
   "outputs": [],
   "source": [
    "data_dict_3C = arff.load(open(curr_path+'/column_3C_weka.arff'))\n",
    "data_arff_3C = data_dict_3C[\"data\"]\n",
    "\n",
    "data_dict_2C = arff.load(open(curr_path+'/column_2C_weka.arff'))\n",
    "data_arff_2C = data_dict_2C[\"data\"]"
   ]
  },
  {
   "cell_type": "code",
   "execution_count": 4,
   "id": "f03c9a99-89b2-440f-af62-58bdd33c2296",
   "metadata": {},
   "outputs": [],
   "source": [
    "attributes_2C = data_dict_2C['attributes']\n",
    "features_2C = [item[0] for item in attributes_2C]\n",
    "\n",
    "attributes_3C = data_dict_3C['attributes']\n",
    "features_3C = [item[0] for item in attributes_3C]"
   ]
  },
  {
   "cell_type": "code",
   "execution_count": 13,
   "id": "b3c19d5c-ab54-4e73-95a8-cb50e68e5c22",
   "metadata": {},
   "outputs": [
    {
     "name": "stdout",
     "output_type": "stream",
     "text": [
      "['pelvic_incidence', 'pelvic_tilt', 'lumbar_lordosis_angle', 'sacral_slope', 'pelvic_radius', 'degree_spondylolisthesis', 'class']\n"
     ]
    }
   ],
   "source": [
    "print(features_3C)"
   ]
  },
  {
   "cell_type": "code",
   "execution_count": 5,
   "id": "683b4f14-a81c-44c9-a06b-c2388c5bcecd",
   "metadata": {},
   "outputs": [],
   "source": [
    "ortho_3C_df = pd.DataFrame(data = data_arff_3C, columns = features_3C)\n",
    "ortho_2C_df = pd.DataFrame(data = data_arff_2C, columns = features_2C)"
   ]
  },
  {
   "cell_type": "code",
   "execution_count": 29,
   "id": "e2006962-15e3-418f-b783-e8fb354920a7",
   "metadata": {},
   "outputs": [
    {
     "data": {
      "text/html": [
       "<div>\n",
       "<style scoped>\n",
       "    .dataframe tbody tr th:only-of-type {\n",
       "        vertical-align: middle;\n",
       "    }\n",
       "\n",
       "    .dataframe tbody tr th {\n",
       "        vertical-align: top;\n",
       "    }\n",
       "\n",
       "    .dataframe thead th {\n",
       "        text-align: right;\n",
       "    }\n",
       "</style>\n",
       "<table border=\"1\" class=\"dataframe\">\n",
       "  <thead>\n",
       "    <tr style=\"text-align: right;\">\n",
       "      <th></th>\n",
       "      <th>pelvic_incidence</th>\n",
       "      <th>pelvic_tilt</th>\n",
       "      <th>lumbar_lordosis_angle</th>\n",
       "      <th>sacral_slope</th>\n",
       "      <th>pelvic_radius</th>\n",
       "      <th>degree_spondylolisthesis</th>\n",
       "      <th>class</th>\n",
       "    </tr>\n",
       "  </thead>\n",
       "  <tbody>\n",
       "    <tr>\n",
       "      <th>0</th>\n",
       "      <td>63.027817</td>\n",
       "      <td>22.552586</td>\n",
       "      <td>39.609117</td>\n",
       "      <td>40.475232</td>\n",
       "      <td>98.672917</td>\n",
       "      <td>-0.254400</td>\n",
       "      <td>Hernia</td>\n",
       "    </tr>\n",
       "    <tr>\n",
       "      <th>1</th>\n",
       "      <td>39.056951</td>\n",
       "      <td>10.060991</td>\n",
       "      <td>25.015378</td>\n",
       "      <td>28.995960</td>\n",
       "      <td>114.405425</td>\n",
       "      <td>4.564259</td>\n",
       "      <td>Hernia</td>\n",
       "    </tr>\n",
       "    <tr>\n",
       "      <th>2</th>\n",
       "      <td>68.832021</td>\n",
       "      <td>22.218482</td>\n",
       "      <td>50.092194</td>\n",
       "      <td>46.613539</td>\n",
       "      <td>105.985135</td>\n",
       "      <td>-3.530317</td>\n",
       "      <td>Hernia</td>\n",
       "    </tr>\n",
       "    <tr>\n",
       "      <th>3</th>\n",
       "      <td>69.297008</td>\n",
       "      <td>24.652878</td>\n",
       "      <td>44.311238</td>\n",
       "      <td>44.644130</td>\n",
       "      <td>101.868495</td>\n",
       "      <td>11.211523</td>\n",
       "      <td>Hernia</td>\n",
       "    </tr>\n",
       "    <tr>\n",
       "      <th>4</th>\n",
       "      <td>49.712859</td>\n",
       "      <td>9.652075</td>\n",
       "      <td>28.317406</td>\n",
       "      <td>40.060784</td>\n",
       "      <td>108.168725</td>\n",
       "      <td>7.918501</td>\n",
       "      <td>Hernia</td>\n",
       "    </tr>\n",
       "  </tbody>\n",
       "</table>\n",
       "</div>"
      ],
      "text/plain": [
       "   pelvic_incidence  pelvic_tilt  lumbar_lordosis_angle  sacral_slope  \\\n",
       "0         63.027817    22.552586              39.609117     40.475232   \n",
       "1         39.056951    10.060991              25.015378     28.995960   \n",
       "2         68.832021    22.218482              50.092194     46.613539   \n",
       "3         69.297008    24.652878              44.311238     44.644130   \n",
       "4         49.712859     9.652075              28.317406     40.060784   \n",
       "\n",
       "   pelvic_radius  degree_spondylolisthesis   class  \n",
       "0      98.672917                 -0.254400  Hernia  \n",
       "1     114.405425                  4.564259  Hernia  \n",
       "2     105.985135                 -3.530317  Hernia  \n",
       "3     101.868495                 11.211523  Hernia  \n",
       "4     108.168725                  7.918501  Hernia  "
      ]
     },
     "execution_count": 29,
     "metadata": {},
     "output_type": "execute_result"
    }
   ],
   "source": [
    "ortho_3C_df.head()"
   ]
  },
  {
   "cell_type": "code",
   "execution_count": 20,
   "id": "42a20030-206f-4761-aac3-5348f8ab3dde",
   "metadata": {},
   "outputs": [],
   "source": [
    "ortho_3C_df.to_csv(path_or_buf='ortho-data-multiclass.csv', index=False)\n",
    "ortho_2C_df.to_csv(path_or_buf='ortho-data-binary-class.csv', index=False)"
   ]
  },
  {
   "cell_type": "code",
   "execution_count": 22,
   "id": "457f52e5-5880-481d-9e57-4e54780a6113",
   "metadata": {},
   "outputs": [
    {
     "data": {
      "text/html": [
       "<div>\n",
       "<style scoped>\n",
       "    .dataframe tbody tr th:only-of-type {\n",
       "        vertical-align: middle;\n",
       "    }\n",
       "\n",
       "    .dataframe tbody tr th {\n",
       "        vertical-align: top;\n",
       "    }\n",
       "\n",
       "    .dataframe thead th {\n",
       "        text-align: right;\n",
       "    }\n",
       "</style>\n",
       "<table border=\"1\" class=\"dataframe\">\n",
       "  <thead>\n",
       "    <tr style=\"text-align: right;\">\n",
       "      <th></th>\n",
       "      <th>pelvic_incidence</th>\n",
       "      <th>pelvic_tilt</th>\n",
       "      <th>lumbar_lordosis_angle</th>\n",
       "      <th>sacral_slope</th>\n",
       "      <th>pelvic_radius</th>\n",
       "      <th>degree_spondylolisthesis</th>\n",
       "      <th>class</th>\n",
       "    </tr>\n",
       "  </thead>\n",
       "  <tbody>\n",
       "    <tr>\n",
       "      <th>0</th>\n",
       "      <td>63.027818</td>\n",
       "      <td>22.552586</td>\n",
       "      <td>39.609117</td>\n",
       "      <td>40.475232</td>\n",
       "      <td>98.672917</td>\n",
       "      <td>-0.254400</td>\n",
       "      <td>Hernia</td>\n",
       "    </tr>\n",
       "    <tr>\n",
       "      <th>1</th>\n",
       "      <td>39.056951</td>\n",
       "      <td>10.060991</td>\n",
       "      <td>25.015378</td>\n",
       "      <td>28.995960</td>\n",
       "      <td>114.405425</td>\n",
       "      <td>4.564259</td>\n",
       "      <td>Hernia</td>\n",
       "    </tr>\n",
       "    <tr>\n",
       "      <th>2</th>\n",
       "      <td>68.832021</td>\n",
       "      <td>22.218482</td>\n",
       "      <td>50.092194</td>\n",
       "      <td>46.613539</td>\n",
       "      <td>105.985135</td>\n",
       "      <td>-3.530317</td>\n",
       "      <td>Hernia</td>\n",
       "    </tr>\n",
       "    <tr>\n",
       "      <th>3</th>\n",
       "      <td>69.297008</td>\n",
       "      <td>24.652878</td>\n",
       "      <td>44.311238</td>\n",
       "      <td>44.644130</td>\n",
       "      <td>101.868495</td>\n",
       "      <td>11.211523</td>\n",
       "      <td>Hernia</td>\n",
       "    </tr>\n",
       "    <tr>\n",
       "      <th>4</th>\n",
       "      <td>49.712859</td>\n",
       "      <td>9.652075</td>\n",
       "      <td>28.317406</td>\n",
       "      <td>40.060784</td>\n",
       "      <td>108.168725</td>\n",
       "      <td>7.918501</td>\n",
       "      <td>Hernia</td>\n",
       "    </tr>\n",
       "  </tbody>\n",
       "</table>\n",
       "</div>"
      ],
      "text/plain": [
       "   pelvic_incidence  pelvic_tilt  lumbar_lordosis_angle  sacral_slope  \\\n",
       "0         63.027818    22.552586              39.609117     40.475232   \n",
       "1         39.056951    10.060991              25.015378     28.995960   \n",
       "2         68.832021    22.218482              50.092194     46.613539   \n",
       "3         69.297008    24.652878              44.311238     44.644130   \n",
       "4         49.712859     9.652075              28.317406     40.060784   \n",
       "\n",
       "   pelvic_radius  degree_spondylolisthesis   class  \n",
       "0      98.672917                 -0.254400  Hernia  \n",
       "1     114.405425                  4.564259  Hernia  \n",
       "2     105.985135                 -3.530317  Hernia  \n",
       "3     101.868495                 11.211523  Hernia  \n",
       "4     108.168725                  7.918501  Hernia  "
      ]
     },
     "execution_count": 22,
     "metadata": {},
     "output_type": "execute_result"
    }
   ],
   "source": [
    "url = 'https://raw.githubusercontent.com/van-william/azure-ml-demo/main/source-data/ortho-data-multiclass.csv'\n",
    "df = pd.read_csv(url)\n",
    "df.head()"
   ]
  },
  {
   "cell_type": "markdown",
   "id": "c2a5a823-211e-431d-a4f2-dca931c4ccef",
   "metadata": {},
   "source": [
    "## Write SQL Data"
   ]
  },
  {
   "cell_type": "code",
   "execution_count": 43,
   "id": "dbe0d303-5cd0-4b80-88f9-75601b389468",
   "metadata": {},
   "outputs": [
    {
     "ename": "SyntaxError",
     "evalue": "invalid syntax (<ipython-input-43-b0605bac3640>, line 16)",
     "output_type": "error",
     "traceback": [
      "\u001b[1;36m  File \u001b[1;32m\"<ipython-input-43-b0605bac3640>\"\u001b[1;36m, line \u001b[1;32m16\u001b[0m\n\u001b[1;33m    cursor.execute(\"INSERT INTO dbo.MlOrtho \"+column_names+\" values(?,?,?,?,?,?,?)\", row.pelvic_incidence, row.pelvic_tilt, row.lumbar_lordosis_angle, row.sacral_slope, row.pelvic_radius, row.degree_spondylolisthesis,row.class)\u001b[0m\n\u001b[1;37m                                                                                                                                                                                                                                 ^\u001b[0m\n\u001b[1;31mSyntaxError\u001b[0m\u001b[1;31m:\u001b[0m invalid syntax\n"
     ]
    }
   ],
   "source": [
    "# Some other example server values are\n",
    "# server = 'localhost\\sqlexpress' # for a named instance\n",
    "# server = 'myserver,port' # to specify an alternate port\n",
    "server = 'azure-demo-database-helium.database.windows.net'\n",
    "database = 'azure-demo-database-helium'\n",
    "username = 'william'\n",
    "password = '{Redeemed93!!}'   \n",
    "driver= '{ODBC Driver 17 for SQL Server}'\n",
    "column_names = '(pelvic_incidence, pelvic_tilt, lumbar_lordosis_angle,sacral_slope, pelvic_radius, degree_spondylolisthesis,class)'\n",
    "\n",
    "\n",
    "cnxn = pyodbc.connect('DRIVER='+driver+';SERVER=tcp:'+server+';PORT=1433;DATABASE='+database+';UID='+username+';PWD='+ password)\n",
    "cursor = conn.cursor()\n",
    "# Insert Dataframe into SQL Server:\n",
    "for index, row in ortho_3C_df.iterrows():\n",
    "    cursor.execute(\"INSERT INTO dbo.MlOrtho \"+column_names+\" values(?,?,?,?,?,?,?)\", row.pelvic_incidence, row.pelvic_tilt, row.lumbar_lordosis_angle, row.sacral_slope, row.pelvic_radius, row.degree_spondylolisthesis,row.class)\n",
    "cnxn.commit()\n",
    "cursor.close()"
   ]
  },
  {
   "cell_type": "markdown",
   "id": "41a6d8d0-91b4-4766-996c-fafd0e2fa97a",
   "metadata": {},
   "source": [
    "## Read SQL Data"
   ]
  },
  {
   "cell_type": "code",
   "execution_count": 40,
   "id": "190a7836-38f9-4454-8719-f12fcd3d6b5f",
   "metadata": {},
   "outputs": [
    {
     "data": {
      "text/html": [
       "<div>\n",
       "<style scoped>\n",
       "    .dataframe tbody tr th:only-of-type {\n",
       "        vertical-align: middle;\n",
       "    }\n",
       "\n",
       "    .dataframe tbody tr th {\n",
       "        vertical-align: top;\n",
       "    }\n",
       "\n",
       "    .dataframe thead th {\n",
       "        text-align: right;\n",
       "    }\n",
       "</style>\n",
       "<table border=\"1\" class=\"dataframe\">\n",
       "  <thead>\n",
       "    <tr style=\"text-align: right;\">\n",
       "      <th></th>\n",
       "    </tr>\n",
       "  </thead>\n",
       "  <tbody>\n",
       "  </tbody>\n",
       "</table>\n",
       "</div>"
      ],
      "text/plain": [
       "Empty DataFrame\n",
       "Columns: []\n",
       "Index: []"
      ]
     },
     "execution_count": 40,
     "metadata": {},
     "output_type": "execute_result"
    }
   ],
   "source": [
    "server = 'azure-demo-database-helium.database.windows.net'\n",
    "database = 'azure-demo-database-helium'\n",
    "username = 'william'\n",
    "password = '{Redeemed93!!}'   \n",
    "driver= '{ODBC Driver 17 for SQL Server}'\n",
    "\n",
    "with pyodbc.connect('DRIVER='+driver+';SERVER=tcp:'+server+';PORT=1433;DATABASE='+database+';UID='+username+';PWD='+ password) as conn:\n",
    "    with conn.cursor() as cursor:\n",
    "        sql = \"Select * FROM MlOrtho\"\n",
    "        query_results = cursor.execute(sql).fetchall()\n",
    "    df = pd.DataFrame(query_results)\n",
    "df.head()\n",
    "# with a prepared statement, use list/tuple/dictionary of parameters depending on DB\n",
    "#data = pd.read_sql(sql=sql, con=cnxn, params=query_params) "
   ]
  },
  {
   "cell_type": "code",
   "execution_count": 39,
   "id": "d9df6599-85a2-4df9-9934-9d8414a76121",
   "metadata": {},
   "outputs": [
    {
     "data": {
      "text/html": [
       "<div>\n",
       "<style scoped>\n",
       "    .dataframe tbody tr th:only-of-type {\n",
       "        vertical-align: middle;\n",
       "    }\n",
       "\n",
       "    .dataframe tbody tr th {\n",
       "        vertical-align: top;\n",
       "    }\n",
       "\n",
       "    .dataframe thead th {\n",
       "        text-align: right;\n",
       "    }\n",
       "</style>\n",
       "<table border=\"1\" class=\"dataframe\">\n",
       "  <thead>\n",
       "    <tr style=\"text-align: right;\">\n",
       "      <th></th>\n",
       "    </tr>\n",
       "  </thead>\n",
       "  <tbody>\n",
       "  </tbody>\n",
       "</table>\n",
       "</div>"
      ],
      "text/plain": [
       "Empty DataFrame\n",
       "Columns: []\n",
       "Index: []"
      ]
     },
     "execution_count": 39,
     "metadata": {},
     "output_type": "execute_result"
    }
   ],
   "source": [
    "df.head()"
   ]
  },
  {
   "cell_type": "code",
   "execution_count": null,
   "id": "fe4a0edb-b158-496c-a53b-98930d69e294",
   "metadata": {},
   "outputs": [],
   "source": []
  }
 ],
 "metadata": {
  "kernelspec": {
   "display_name": "data-science",
   "language": "python",
   "name": "data-science"
  },
  "language_info": {
   "codemirror_mode": {
    "name": "ipython",
    "version": 3
   },
   "file_extension": ".py",
   "mimetype": "text/x-python",
   "name": "python",
   "nbconvert_exporter": "python",
   "pygments_lexer": "ipython3",
   "version": "3.6.15"
  }
 },
 "nbformat": 4,
 "nbformat_minor": 5
}
