{
 "cells": [
  {
   "cell_type": "markdown",
   "metadata": {
    "nteract": {
     "transient": {
      "deleting": false
     }
    }
   },
   "source": [
    "# Ortho Dataset Multiclass Classification with Deep Learning\n",
    "\n",
    "## Notes and References\n",
    "- Link to Source Data: http://archive.ics.uci.edu/ml/datasets/vertebral+column\n",
    "- Link to additional inforamtion on GitHub: https://github.com/van-william/azure-ml-demo"
   ]
  },
  {
   "cell_type": "markdown",
   "metadata": {
    "nteract": {
     "transient": {
      "deleting": false
     }
    }
   },
   "source": [
    "# Import Libraries and Initial Setup"
   ]
  },
  {
   "cell_type": "code",
   "execution_count": 99,
   "metadata": {
    "collapsed": false,
    "gather": {
     "logged": 1641780631803
    },
    "jupyter": {
     "outputs_hidden": false,
     "source_hidden": false
    },
    "nteract": {
     "transient": {
      "deleting": false
     }
    }
   },
   "outputs": [],
   "source": [
    "#Standard Python ML Libraries\n",
    "import logging\n",
    "import json\n",
    "from matplotlib import pyplot as plt\n",
    "%matplotlib inline\n",
    "import pandas as pd\n",
    "import arff\n",
    "import requests, zipfile\n",
    "from IPython.display import Image\n",
    "from IPython.display import display\n",
    "import sys\n",
    "import os\n",
    "import math\n",
    "import numpy as np\n",
    "import seaborn as sns\n",
    "import random\n",
    "random.seed(42)\n",
    "\n",
    "#Import TensorFlow libraries\n",
    "from tensorflow import keras\n",
    "from tensorflow.keras import layers\n",
    "import tensorflow as tf\n",
    "\n",
    "#Sklearn\n",
    "from sklearn.model_selection import train_test_split\n",
    "from sklearn.preprocessing import StandardScaler\n",
    "from sklearn.metrics import confusion_matrix, ConfusionMatrixDisplay"
   ]
  },
  {
   "cell_type": "code",
   "execution_count": 2,
   "metadata": {
    "gather": {
     "logged": 1641779187727
    }
   },
   "outputs": [],
   "source": [
    "# connect to your workspace\n",
    "ws = Workspace.from_config()\n",
    "\n",
    "experiment_name = \"ortho-experiment-medium\"\n",
    "exp = Experiment(workspace=ws, name=experiment_name)"
   ]
  },
  {
   "cell_type": "code",
   "execution_count": 12,
   "metadata": {
    "gather": {
     "logged": 1641779238762
    }
   },
   "outputs": [
    {
     "name": "stdout",
     "output_type": "stream",
     "text": [
      "C:\\Users\\wvanbuskir002\\Documents\\7 - Other Research - Tech\\python_web_app\\flask_app_ml\\notebooks\n"
     ]
    }
   ],
   "source": [
    "curr_path = os.getcwd()\n",
    "print(curr_path)"
   ]
  },
  {
   "cell_type": "code",
   "execution_count": 4,
   "metadata": {
    "collapsed": false,
    "gather": {
     "logged": 1641781184578
    },
    "jupyter": {
     "outputs_hidden": false,
     "source_hidden": false
    },
    "nteract": {
     "transient": {
      "deleting": false
     }
    }
   },
   "outputs": [],
   "source": [
    "# Custom Heatmap Plot\n",
    "# Source: https://towardsdatascience.com/better-heatmaps-and-correlation-matrix-plots-in-python-41445d0f2bec\n",
    "def corr_plot(df):\n",
    "    corr = df.corr()\n",
    "    # Generate a mask for the upper triangle\n",
    "    mask = np.zeros_like(corr, dtype=np.bool)\n",
    "    mask[np.triu_indices_from(mask)] = True\n",
    "    # Set up the matplotlib figure\n",
    "    f, ax = plt.subplots(figsize=(10, 10))\n",
    "    # Generate a custom diverging colormap\n",
    "    cmap = sns.diverging_palette(220, 11, as_cmap=True)\n",
    "    # Draw the heatmap with the mask and correct aspect ratio\n",
    "    sns.heatmap(corr, mask=mask, cmap=cmap, vmax=1, center=0,\n",
    "    square=True, linewidths=.5, cbar_kws={\"shrink\": .5})"
   ]
  },
  {
   "cell_type": "markdown",
   "metadata": {
    "nteract": {
     "transient": {
      "deleting": false
     }
    }
   },
   "source": [
    "## Extract Data from UCI Site in python"
   ]
  },
  {
   "cell_type": "code",
   "execution_count": 6,
   "metadata": {
    "gather": {
     "logged": 1641780292233
    }
   },
   "outputs": [
    {
     "data": {
      "text/html": [
       "<div>\n",
       "<style scoped>\n",
       "    .dataframe tbody tr th:only-of-type {\n",
       "        vertical-align: middle;\n",
       "    }\n",
       "\n",
       "    .dataframe tbody tr th {\n",
       "        vertical-align: top;\n",
       "    }\n",
       "\n",
       "    .dataframe thead th {\n",
       "        text-align: right;\n",
       "    }\n",
       "</style>\n",
       "<table border=\"1\" class=\"dataframe\">\n",
       "  <thead>\n",
       "    <tr style=\"text-align: right;\">\n",
       "      <th></th>\n",
       "      <th>pelvic_incidence</th>\n",
       "      <th>pelvic_tilt</th>\n",
       "      <th>lumbar_lordosis_angle</th>\n",
       "      <th>sacral_slope</th>\n",
       "      <th>pelvic_radius</th>\n",
       "      <th>degree_spondylolisthesis</th>\n",
       "      <th>class</th>\n",
       "    </tr>\n",
       "  </thead>\n",
       "  <tbody>\n",
       "    <tr>\n",
       "      <th>0</th>\n",
       "      <td>63.027817</td>\n",
       "      <td>22.552586</td>\n",
       "      <td>39.609117</td>\n",
       "      <td>40.475232</td>\n",
       "      <td>98.672917</td>\n",
       "      <td>-0.254400</td>\n",
       "      <td>Hernia</td>\n",
       "    </tr>\n",
       "    <tr>\n",
       "      <th>1</th>\n",
       "      <td>39.056951</td>\n",
       "      <td>10.060991</td>\n",
       "      <td>25.015378</td>\n",
       "      <td>28.995960</td>\n",
       "      <td>114.405425</td>\n",
       "      <td>4.564259</td>\n",
       "      <td>Hernia</td>\n",
       "    </tr>\n",
       "    <tr>\n",
       "      <th>2</th>\n",
       "      <td>68.832021</td>\n",
       "      <td>22.218482</td>\n",
       "      <td>50.092194</td>\n",
       "      <td>46.613539</td>\n",
       "      <td>105.985135</td>\n",
       "      <td>-3.530317</td>\n",
       "      <td>Hernia</td>\n",
       "    </tr>\n",
       "    <tr>\n",
       "      <th>3</th>\n",
       "      <td>69.297008</td>\n",
       "      <td>24.652878</td>\n",
       "      <td>44.311238</td>\n",
       "      <td>44.644130</td>\n",
       "      <td>101.868495</td>\n",
       "      <td>11.211523</td>\n",
       "      <td>Hernia</td>\n",
       "    </tr>\n",
       "    <tr>\n",
       "      <th>4</th>\n",
       "      <td>49.712859</td>\n",
       "      <td>9.652075</td>\n",
       "      <td>28.317406</td>\n",
       "      <td>40.060784</td>\n",
       "      <td>108.168725</td>\n",
       "      <td>7.918501</td>\n",
       "      <td>Hernia</td>\n",
       "    </tr>\n",
       "  </tbody>\n",
       "</table>\n",
       "</div>"
      ],
      "text/plain": [
       "   pelvic_incidence  pelvic_tilt  lumbar_lordosis_angle  sacral_slope  \\\n",
       "0         63.027817    22.552586              39.609117     40.475232   \n",
       "1         39.056951    10.060991              25.015378     28.995960   \n",
       "2         68.832021    22.218482              50.092194     46.613539   \n",
       "3         69.297008    24.652878              44.311238     44.644130   \n",
       "4         49.712859     9.652075              28.317406     40.060784   \n",
       "\n",
       "   pelvic_radius  degree_spondylolisthesis   class  \n",
       "0      98.672917                 -0.254400  Hernia  \n",
       "1     114.405425                  4.564259  Hernia  \n",
       "2     105.985135                 -3.530317  Hernia  \n",
       "3     101.868495                 11.211523  Hernia  \n",
       "4     108.168725                  7.918501  Hernia  "
      ]
     },
     "execution_count": 6,
     "metadata": {},
     "output_type": "execute_result"
    }
   ],
   "source": [
    "f_zip = 'http://archive.ics.uci.edu/ml/machine-learning-databases/00212/vertebral_column_data.zip'\n",
    "\n",
    "# Download the data\n",
    "r = requests.get(f_zip)\n",
    "\n",
    "# Write the zip file to the azure machine learning\n",
    "with open('./ortho-zip.zip', 'wb') as f:\n",
    "    f.write(r.content)\n",
    "\n",
    "# Open and unzip the file\n",
    "with zipfile.ZipFile('./ortho-zip.zip', 'r') as zip:\n",
    "    # printing all the contents of the zip file\n",
    "    #print('directory: \\n')\n",
    "    #zip.printdir()\n",
    "    # extracting all the files\n",
    "    zip.extractall()\n",
    "\n",
    "# Load the .arff file\n",
    "data_dict = arff.load(open('./column_3C_weka.arff'))\n",
    "# Create a pandas dataframe from the .arff file\n",
    "data_arff = data_dict[\"data\"]\n",
    "attributes = data_dict['attributes']\n",
    "features = [item[0] for item in attributes]\n",
    "ortho_3C_df = pd.DataFrame(data = data_arff, columns = features)\n",
    "ortho_3C_df.head()"
   ]
  },
  {
   "cell_type": "code",
   "execution_count": 10,
   "metadata": {},
   "outputs": [
    {
     "data": {
      "text/plain": [
       "Spondylolisthesis    150\n",
       "Normal               100\n",
       "Hernia                60\n",
       "Name: class, dtype: int64"
      ]
     },
     "execution_count": 10,
     "metadata": {},
     "output_type": "execute_result"
    }
   ],
   "source": [
    "ortho_3C_df['class'].value_counts()"
   ]
  },
  {
   "cell_type": "code",
   "execution_count": 114,
   "metadata": {},
   "outputs": [],
   "source": [
    "decoder = {'Normal': 0,\n",
    " 'Hernia':1,\n",
    " 'Spondylolisthesis':2 }"
   ]
  },
  {
   "cell_type": "code",
   "execution_count": 115,
   "metadata": {},
   "outputs": [],
   "source": [
    "num_features = ['pelvic_incidence', 'pelvic_tilt', 'lumbar_lordosis_angle',\n",
    "                'sacral_slope', 'pelvic_radius', 'degree_spondylolisthesis']"
   ]
  },
  {
   "cell_type": "code",
   "execution_count": 116,
   "metadata": {},
   "outputs": [],
   "source": [
    "ortho_3C_df['label'] = ortho_3C_df['class'].apply(lambda x: decoder[x])"
   ]
  },
  {
   "cell_type": "code",
   "execution_count": 117,
   "metadata": {},
   "outputs": [],
   "source": [
    "features = ortho_3C_df[num_features].values\n",
    "labels = ortho_3C_df['label'].values"
   ]
  },
  {
   "cell_type": "code",
   "execution_count": null,
   "metadata": {},
   "outputs": [],
   "source": []
  },
  {
   "cell_type": "code",
   "execution_count": 118,
   "metadata": {},
   "outputs": [],
   "source": [
    "X_train, X_val, y_train, y_val = train_test_split(features,labels,test_size=0.20, random_state = 42)"
   ]
  },
  {
   "cell_type": "code",
   "execution_count": 119,
   "metadata": {},
   "outputs": [],
   "source": [
    "scaler = StandardScaler()\n",
    "X_train = scaler.fit_transform(X_train)\n",
    "X_train = tf.convert_to_tensor(X_train)\n",
    "\n",
    "X_val = scaler.transform(X_val)\n",
    "X_val = tf.convert_to_tensor(X_val)\n",
    "\n",
    "y_train = tf.convert_to_tensor(y_train)\n",
    "y_val = tf.convert_to_tensor(y_val)\n",
    "\n",
    "y_train = keras.utils.to_categorical(y_train, 3)\n",
    "y_val = keras.utils.to_categorical(y_val, 3)"
   ]
  },
  {
   "cell_type": "code",
   "execution_count": 120,
   "metadata": {},
   "outputs": [],
   "source": [
    "#build model\n",
    "model = keras.Sequential([\n",
    "    layers.Dense(64, activation=\"relu\"),\n",
    "    layers.Dense(64, activation=\"relu\"),\n",
    "    layers.Dense(3, activation=\"softmax\")\n",
    "])"
   ]
  },
  {
   "cell_type": "code",
   "execution_count": 121,
   "metadata": {},
   "outputs": [],
   "source": [
    "model.compile(optimizer=\"rmsprop\",\n",
    "              loss=\"categorical_crossentropy\",\n",
    "              metrics=[\"accuracy\"])"
   ]
  },
  {
   "cell_type": "code",
   "execution_count": 122,
   "metadata": {},
   "outputs": [
    {
     "name": "stdout",
     "output_type": "stream",
     "text": [
      "Epoch 1/100\n",
      "16/16 [==============================] - 2s 23ms/step - loss: 0.9420 - accuracy: 0.5282 - val_loss: 0.7299 - val_accuracy: 0.6774\n",
      "Epoch 2/100\n",
      "16/16 [==============================] - 0s 8ms/step - loss: 0.7243 - accuracy: 0.7460 - val_loss: 0.6154 - val_accuracy: 0.7097\n",
      "Epoch 3/100\n",
      "16/16 [==============================] - 0s 8ms/step - loss: 0.6295 - accuracy: 0.7782 - val_loss: 0.5456 - val_accuracy: 0.7419\n",
      "Epoch 4/100\n",
      "16/16 [==============================] - 0s 8ms/step - loss: 0.5626 - accuracy: 0.7903 - val_loss: 0.5064 - val_accuracy: 0.7419\n",
      "Epoch 5/100\n",
      "16/16 [==============================] - 0s 7ms/step - loss: 0.5102 - accuracy: 0.8065 - val_loss: 0.4613 - val_accuracy: 0.7742\n",
      "Epoch 6/100\n",
      "16/16 [==============================] - 0s 6ms/step - loss: 0.4694 - accuracy: 0.8065 - val_loss: 0.4388 - val_accuracy: 0.7903\n",
      "Epoch 7/100\n",
      "16/16 [==============================] - 0s 7ms/step - loss: 0.4340 - accuracy: 0.8145 - val_loss: 0.4219 - val_accuracy: 0.7903\n",
      "Epoch 8/100\n",
      "16/16 [==============================] - 0s 6ms/step - loss: 0.4076 - accuracy: 0.8347 - val_loss: 0.4022 - val_accuracy: 0.8065\n",
      "Epoch 9/100\n",
      "16/16 [==============================] - 0s 6ms/step - loss: 0.3821 - accuracy: 0.8306 - val_loss: 0.3898 - val_accuracy: 0.8065\n",
      "Epoch 10/100\n",
      "16/16 [==============================] - 0s 5ms/step - loss: 0.3620 - accuracy: 0.8589 - val_loss: 0.3686 - val_accuracy: 0.8387\n",
      "Epoch 11/100\n",
      "16/16 [==============================] - 0s 6ms/step - loss: 0.3451 - accuracy: 0.8548 - val_loss: 0.3556 - val_accuracy: 0.8387\n",
      "Epoch 12/100\n",
      "16/16 [==============================] - 0s 5ms/step - loss: 0.3277 - accuracy: 0.8629 - val_loss: 0.3555 - val_accuracy: 0.8226\n",
      "Epoch 13/100\n",
      "16/16 [==============================] - 0s 6ms/step - loss: 0.3156 - accuracy: 0.8831 - val_loss: 0.3542 - val_accuracy: 0.8226\n",
      "Epoch 14/100\n",
      "16/16 [==============================] - 0s 6ms/step - loss: 0.3086 - accuracy: 0.8750 - val_loss: 0.3429 - val_accuracy: 0.8065\n",
      "Epoch 15/100\n",
      "16/16 [==============================] - 0s 9ms/step - loss: 0.2978 - accuracy: 0.8871 - val_loss: 0.3295 - val_accuracy: 0.8226\n",
      "Epoch 16/100\n",
      "16/16 [==============================] - 0s 9ms/step - loss: 0.2915 - accuracy: 0.8790 - val_loss: 0.3212 - val_accuracy: 0.8387\n",
      "Epoch 17/100\n",
      "16/16 [==============================] - 0s 8ms/step - loss: 0.2842 - accuracy: 0.8831 - val_loss: 0.3190 - val_accuracy: 0.8387\n",
      "Epoch 18/100\n",
      "16/16 [==============================] - 0s 8ms/step - loss: 0.2818 - accuracy: 0.8911 - val_loss: 0.3172 - val_accuracy: 0.8387\n",
      "Epoch 19/100\n",
      "16/16 [==============================] - 0s 6ms/step - loss: 0.2749 - accuracy: 0.8952 - val_loss: 0.3111 - val_accuracy: 0.8548\n",
      "Epoch 20/100\n",
      "16/16 [==============================] - 0s 6ms/step - loss: 0.2701 - accuracy: 0.8952 - val_loss: 0.3121 - val_accuracy: 0.8387\n",
      "Epoch 21/100\n",
      "16/16 [==============================] - 0s 7ms/step - loss: 0.2671 - accuracy: 0.8952 - val_loss: 0.3129 - val_accuracy: 0.8548\n",
      "Epoch 22/100\n",
      "16/16 [==============================] - 0s 7ms/step - loss: 0.2607 - accuracy: 0.8911 - val_loss: 0.3128 - val_accuracy: 0.8065\n",
      "Epoch 23/100\n",
      "16/16 [==============================] - 0s 7ms/step - loss: 0.2646 - accuracy: 0.8871 - val_loss: 0.3159 - val_accuracy: 0.7903\n",
      "Epoch 24/100\n",
      "16/16 [==============================] - 0s 5ms/step - loss: 0.2580 - accuracy: 0.8871 - val_loss: 0.3104 - val_accuracy: 0.8387\n",
      "Epoch 25/100\n",
      "16/16 [==============================] - 0s 7ms/step - loss: 0.2542 - accuracy: 0.8871 - val_loss: 0.3015 - val_accuracy: 0.8710\n",
      "Epoch 26/100\n",
      "16/16 [==============================] - 0s 6ms/step - loss: 0.2525 - accuracy: 0.8871 - val_loss: 0.2959 - val_accuracy: 0.8387\n",
      "Epoch 27/100\n",
      "16/16 [==============================] - 0s 6ms/step - loss: 0.2503 - accuracy: 0.8911 - val_loss: 0.3007 - val_accuracy: 0.8710\n",
      "Epoch 28/100\n",
      "16/16 [==============================] - 0s 6ms/step - loss: 0.2485 - accuracy: 0.8952 - val_loss: 0.3070 - val_accuracy: 0.8387\n",
      "Epoch 29/100\n",
      "16/16 [==============================] - 0s 5ms/step - loss: 0.2466 - accuracy: 0.8871 - val_loss: 0.3027 - val_accuracy: 0.8226\n",
      "Epoch 30/100\n",
      "16/16 [==============================] - 0s 5ms/step - loss: 0.2442 - accuracy: 0.8871 - val_loss: 0.3015 - val_accuracy: 0.8548\n",
      "Epoch 31/100\n",
      "16/16 [==============================] - 0s 7ms/step - loss: 0.2427 - accuracy: 0.8911 - val_loss: 0.2987 - val_accuracy: 0.8710\n",
      "Epoch 32/100\n",
      "16/16 [==============================] - 0s 7ms/step - loss: 0.2397 - accuracy: 0.8952 - val_loss: 0.2905 - val_accuracy: 0.8548\n",
      "Epoch 33/100\n",
      "16/16 [==============================] - 0s 6ms/step - loss: 0.2431 - accuracy: 0.8911 - val_loss: 0.2944 - val_accuracy: 0.8387\n",
      "Epoch 34/100\n",
      "16/16 [==============================] - 0s 7ms/step - loss: 0.2311 - accuracy: 0.9032 - val_loss: 0.3016 - val_accuracy: 0.8710\n",
      "Epoch 35/100\n",
      "16/16 [==============================] - 0s 7ms/step - loss: 0.2289 - accuracy: 0.9113 - val_loss: 0.2952 - val_accuracy: 0.8548\n",
      "Epoch 36/100\n",
      "16/16 [==============================] - 0s 6ms/step - loss: 0.2316 - accuracy: 0.8992 - val_loss: 0.3063 - val_accuracy: 0.8548\n",
      "Epoch 37/100\n",
      "16/16 [==============================] - 0s 5ms/step - loss: 0.2328 - accuracy: 0.8911 - val_loss: 0.3008 - val_accuracy: 0.8710\n",
      "Epoch 38/100\n",
      "16/16 [==============================] - 0s 5ms/step - loss: 0.2240 - accuracy: 0.8952 - val_loss: 0.3026 - val_accuracy: 0.8226\n",
      "Epoch 39/100\n",
      "16/16 [==============================] - 0s 6ms/step - loss: 0.2289 - accuracy: 0.8992 - val_loss: 0.3032 - val_accuracy: 0.8710\n",
      "Epoch 40/100\n",
      "16/16 [==============================] - 0s 6ms/step - loss: 0.2285 - accuracy: 0.8952 - val_loss: 0.3005 - val_accuracy: 0.8548\n",
      "Epoch 41/100\n",
      "16/16 [==============================] - 0s 6ms/step - loss: 0.2226 - accuracy: 0.8992 - val_loss: 0.3067 - val_accuracy: 0.8387\n",
      "Epoch 42/100\n",
      "16/16 [==============================] - 0s 5ms/step - loss: 0.2239 - accuracy: 0.8911 - val_loss: 0.3056 - val_accuracy: 0.8387\n",
      "Epoch 43/100\n",
      "16/16 [==============================] - 0s 6ms/step - loss: 0.2216 - accuracy: 0.8911 - val_loss: 0.2991 - val_accuracy: 0.8710\n",
      "Epoch 44/100\n",
      "16/16 [==============================] - 0s 6ms/step - loss: 0.2239 - accuracy: 0.8952 - val_loss: 0.2895 - val_accuracy: 0.8871\n",
      "Epoch 45/100\n",
      "16/16 [==============================] - 0s 6ms/step - loss: 0.2175 - accuracy: 0.9032 - val_loss: 0.2903 - val_accuracy: 0.8710\n",
      "Epoch 46/100\n",
      "16/16 [==============================] - 0s 6ms/step - loss: 0.2118 - accuracy: 0.9073 - val_loss: 0.3049 - val_accuracy: 0.8710\n",
      "Epoch 47/100\n",
      "16/16 [==============================] - 0s 6ms/step - loss: 0.2222 - accuracy: 0.8911 - val_loss: 0.3007 - val_accuracy: 0.8548\n",
      "Epoch 48/100\n",
      "16/16 [==============================] - 0s 6ms/step - loss: 0.2122 - accuracy: 0.9073 - val_loss: 0.2901 - val_accuracy: 0.8871\n",
      "Epoch 49/100\n",
      "16/16 [==============================] - 0s 5ms/step - loss: 0.2160 - accuracy: 0.9073 - val_loss: 0.3074 - val_accuracy: 0.8548\n",
      "Epoch 50/100\n",
      "16/16 [==============================] - 0s 7ms/step - loss: 0.2088 - accuracy: 0.9113 - val_loss: 0.3091 - val_accuracy: 0.8710\n",
      "Epoch 51/100\n",
      "16/16 [==============================] - 0s 5ms/step - loss: 0.2117 - accuracy: 0.8992 - val_loss: 0.2953 - val_accuracy: 0.8871\n",
      "Epoch 52/100\n",
      "16/16 [==============================] - 0s 4ms/step - loss: 0.2058 - accuracy: 0.9073 - val_loss: 0.3135 - val_accuracy: 0.8387\n",
      "Epoch 53/100\n",
      "16/16 [==============================] - 0s 8ms/step - loss: 0.2086 - accuracy: 0.9032 - val_loss: 0.2965 - val_accuracy: 0.8548\n",
      "Epoch 54/100\n",
      "16/16 [==============================] - 0s 9ms/step - loss: 0.2061 - accuracy: 0.9032 - val_loss: 0.2879 - val_accuracy: 0.8710\n",
      "Epoch 55/100\n",
      "16/16 [==============================] - 0s 11ms/step - loss: 0.2086 - accuracy: 0.8992 - val_loss: 0.2961 - val_accuracy: 0.8710\n",
      "Epoch 56/100\n",
      "16/16 [==============================] - 0s 10ms/step - loss: 0.2052 - accuracy: 0.8992 - val_loss: 0.3010 - val_accuracy: 0.8548\n",
      "Epoch 57/100\n",
      "16/16 [==============================] - 0s 9ms/step - loss: 0.2067 - accuracy: 0.9032 - val_loss: 0.2879 - val_accuracy: 0.8871\n",
      "Epoch 58/100\n",
      "16/16 [==============================] - 0s 7ms/step - loss: 0.1993 - accuracy: 0.9113 - val_loss: 0.2904 - val_accuracy: 0.8548\n",
      "Epoch 59/100\n",
      "16/16 [==============================] - 0s 6ms/step - loss: 0.2025 - accuracy: 0.9073 - val_loss: 0.2954 - val_accuracy: 0.8710\n",
      "Epoch 60/100\n",
      "16/16 [==============================] - 0s 7ms/step - loss: 0.2021 - accuracy: 0.8992 - val_loss: 0.2991 - val_accuracy: 0.8710\n",
      "Epoch 61/100\n",
      "16/16 [==============================] - 0s 7ms/step - loss: 0.2000 - accuracy: 0.9073 - val_loss: 0.3016 - val_accuracy: 0.8226\n",
      "Epoch 62/100\n",
      "16/16 [==============================] - 0s 6ms/step - loss: 0.1964 - accuracy: 0.9032 - val_loss: 0.3025 - val_accuracy: 0.8710\n",
      "Epoch 63/100\n",
      "16/16 [==============================] - 0s 6ms/step - loss: 0.1971 - accuracy: 0.9073 - val_loss: 0.2986 - val_accuracy: 0.8710\n",
      "Epoch 64/100\n",
      "16/16 [==============================] - 0s 7ms/step - loss: 0.1946 - accuracy: 0.8992 - val_loss: 0.3025 - val_accuracy: 0.8548\n",
      "Epoch 65/100\n",
      "16/16 [==============================] - 0s 6ms/step - loss: 0.1948 - accuracy: 0.9032 - val_loss: 0.2993 - val_accuracy: 0.8710\n",
      "Epoch 66/100\n",
      "16/16 [==============================] - 0s 6ms/step - loss: 0.1900 - accuracy: 0.9153 - val_loss: 0.3098 - val_accuracy: 0.8226\n",
      "Epoch 67/100\n",
      "16/16 [==============================] - 0s 6ms/step - loss: 0.1890 - accuracy: 0.9113 - val_loss: 0.3009 - val_accuracy: 0.8710\n",
      "Epoch 68/100\n",
      "16/16 [==============================] - 0s 9ms/step - loss: 0.1918 - accuracy: 0.9032 - val_loss: 0.3026 - val_accuracy: 0.8710\n",
      "Epoch 69/100\n",
      "16/16 [==============================] - 0s 7ms/step - loss: 0.1888 - accuracy: 0.9113 - val_loss: 0.3034 - val_accuracy: 0.8548\n",
      "Epoch 70/100\n",
      "16/16 [==============================] - 0s 7ms/step - loss: 0.1866 - accuracy: 0.9153 - val_loss: 0.3072 - val_accuracy: 0.8226\n",
      "Epoch 71/100\n",
      "16/16 [==============================] - 0s 7ms/step - loss: 0.1833 - accuracy: 0.9113 - val_loss: 0.3130 - val_accuracy: 0.8548\n",
      "Epoch 72/100\n",
      "16/16 [==============================] - 0s 6ms/step - loss: 0.1846 - accuracy: 0.8992 - val_loss: 0.3107 - val_accuracy: 0.8710\n",
      "Epoch 73/100\n",
      "16/16 [==============================] - 0s 6ms/step - loss: 0.1840 - accuracy: 0.9113 - val_loss: 0.3130 - val_accuracy: 0.8710\n",
      "Epoch 74/100\n",
      "16/16 [==============================] - 0s 6ms/step - loss: 0.1825 - accuracy: 0.9113 - val_loss: 0.3138 - val_accuracy: 0.8548\n",
      "Epoch 75/100\n",
      "16/16 [==============================] - 0s 6ms/step - loss: 0.1852 - accuracy: 0.8992 - val_loss: 0.3071 - val_accuracy: 0.8710\n",
      "Epoch 76/100\n",
      "16/16 [==============================] - 0s 13ms/step - loss: 0.1833 - accuracy: 0.9032 - val_loss: 0.3029 - val_accuracy: 0.8710\n",
      "Epoch 77/100\n",
      "16/16 [==============================] - 0s 7ms/step - loss: 0.1780 - accuracy: 0.9153 - val_loss: 0.3020 - val_accuracy: 0.8548\n",
      "Epoch 78/100\n",
      "16/16 [==============================] - 0s 7ms/step - loss: 0.1800 - accuracy: 0.9032 - val_loss: 0.3121 - val_accuracy: 0.8710\n",
      "Epoch 79/100\n",
      "16/16 [==============================] - 0s 7ms/step - loss: 0.1770 - accuracy: 0.9073 - val_loss: 0.3140 - val_accuracy: 0.8226\n",
      "Epoch 80/100\n",
      "16/16 [==============================] - 0s 8ms/step - loss: 0.1779 - accuracy: 0.9113 - val_loss: 0.3061 - val_accuracy: 0.8871\n",
      "Epoch 81/100\n",
      "16/16 [==============================] - 0s 6ms/step - loss: 0.1759 - accuracy: 0.9073 - val_loss: 0.3207 - val_accuracy: 0.8226\n",
      "Epoch 82/100\n",
      "16/16 [==============================] - 0s 6ms/step - loss: 0.1728 - accuracy: 0.9194 - val_loss: 0.3097 - val_accuracy: 0.8548\n",
      "Epoch 83/100\n",
      "16/16 [==============================] - 0s 6ms/step - loss: 0.1719 - accuracy: 0.9073 - val_loss: 0.3072 - val_accuracy: 0.8548\n",
      "Epoch 84/100\n",
      "16/16 [==============================] - 0s 6ms/step - loss: 0.1746 - accuracy: 0.9113 - val_loss: 0.3074 - val_accuracy: 0.8710\n",
      "Epoch 85/100\n",
      "16/16 [==============================] - 0s 6ms/step - loss: 0.1707 - accuracy: 0.9073 - val_loss: 0.3194 - val_accuracy: 0.8710\n",
      "Epoch 86/100\n",
      "16/16 [==============================] - 0s 7ms/step - loss: 0.1752 - accuracy: 0.9113 - val_loss: 0.3163 - val_accuracy: 0.8710\n",
      "Epoch 87/100\n",
      "16/16 [==============================] - 0s 6ms/step - loss: 0.1684 - accuracy: 0.9113 - val_loss: 0.3161 - val_accuracy: 0.8548\n",
      "Epoch 88/100\n",
      "16/16 [==============================] - 0s 7ms/step - loss: 0.1688 - accuracy: 0.9073 - val_loss: 0.3267 - val_accuracy: 0.8548\n",
      "Epoch 89/100\n",
      "16/16 [==============================] - 0s 6ms/step - loss: 0.1694 - accuracy: 0.9113 - val_loss: 0.3209 - val_accuracy: 0.8548\n",
      "Epoch 90/100\n",
      "16/16 [==============================] - 0s 6ms/step - loss: 0.1720 - accuracy: 0.9113 - val_loss: 0.3266 - val_accuracy: 0.8548\n",
      "Epoch 91/100\n",
      "16/16 [==============================] - 0s 7ms/step - loss: 0.1651 - accuracy: 0.9153 - val_loss: 0.3196 - val_accuracy: 0.8387\n",
      "Epoch 92/100\n",
      "16/16 [==============================] - 0s 9ms/step - loss: 0.1657 - accuracy: 0.9234 - val_loss: 0.3211 - val_accuracy: 0.8710\n",
      "Epoch 93/100\n",
      "16/16 [==============================] - 0s 7ms/step - loss: 0.1633 - accuracy: 0.9073 - val_loss: 0.3288 - val_accuracy: 0.8548\n",
      "Epoch 94/100\n",
      "16/16 [==============================] - 0s 6ms/step - loss: 0.1686 - accuracy: 0.9073 - val_loss: 0.3291 - val_accuracy: 0.8387\n",
      "Epoch 95/100\n",
      "16/16 [==============================] - 0s 6ms/step - loss: 0.1609 - accuracy: 0.9073 - val_loss: 0.3215 - val_accuracy: 0.8387\n",
      "Epoch 96/100\n",
      "16/16 [==============================] - 0s 7ms/step - loss: 0.1552 - accuracy: 0.9274 - val_loss: 0.3330 - val_accuracy: 0.8065\n",
      "Epoch 97/100\n",
      "16/16 [==============================] - 0s 6ms/step - loss: 0.1621 - accuracy: 0.9194 - val_loss: 0.3324 - val_accuracy: 0.8548\n",
      "Epoch 98/100\n",
      "16/16 [==============================] - 0s 7ms/step - loss: 0.1628 - accuracy: 0.9073 - val_loss: 0.3387 - val_accuracy: 0.8548\n",
      "Epoch 99/100\n",
      "16/16 [==============================] - 0s 8ms/step - loss: 0.1602 - accuracy: 0.9113 - val_loss: 0.3396 - val_accuracy: 0.8387\n",
      "Epoch 100/100\n",
      "16/16 [==============================] - 0s 8ms/step - loss: 0.1567 - accuracy: 0.9153 - val_loss: 0.3304 - val_accuracy: 0.8548\n"
     ]
    }
   ],
   "source": [
    "history = model.fit(X_train, \n",
    "                    y_train,\n",
    "                    epochs = 100,\n",
    "                    batch_size = 16,\n",
    "                    validation_data = (X_val, y_val))"
   ]
  },
  {
   "cell_type": "code",
   "execution_count": 123,
   "metadata": {},
   "outputs": [
    {
     "data": {
      "text/plain": [
       "'2.9.1'"
      ]
     },
     "execution_count": 123,
     "metadata": {},
     "output_type": "execute_result"
    }
   ],
   "source": [
    "tf.__version__"
   ]
  },
  {
   "cell_type": "code",
   "execution_count": 124,
   "metadata": {},
   "outputs": [
    {
     "data": {
      "image/png": "[encoded data removed]",
      "text/plain": [
       "<Figure size 432x288 with 1 Axes>"
      ]
     },
     "metadata": {
      "needs_background": "light"
     },
     "output_type": "display_data"
    }
   ],
   "source": [
    "acc = history.history[\"accuracy\"]\n",
    "val_acc = history.history[\"val_accuracy\"]\n",
    "loss = history.history[\"loss\"]\n",
    "epochs = range(1, len(loss) + 1)\n",
    "plt.plot(epochs, acc, \"bo\", label=\"Training Accuracy\")\n",
    "plt.plot(epochs, val_acc, \"b\", label=\"Validation Accuracy\")\n",
    "plt.title(\"Training and Validation Accuracy\")\n",
    "plt.xlabel(\"Epochs\")\n",
    "plt.ylabel(\"Accuracy\")\n",
    "plt.legend()\n",
    "plt.show()"
   ]
  },
  {
   "cell_type": "code",
   "execution_count": 125,
   "metadata": {},
   "outputs": [
    {
     "name": "stdout",
     "output_type": "stream",
     "text": [
      "2/2 [==============================] - 0s 7ms/step\n"
     ]
    }
   ],
   "source": [
    "y_pred = model.predict(X_val)"
   ]
  },
  {
   "cell_type": "code",
   "execution_count": 127,
   "metadata": {},
   "outputs": [],
   "source": [
    "y_pred_single_value = [np.argmax(y_pred[i]) for i in range(len(y_pred))]"
   ]
  },
  {
   "cell_type": "code",
   "execution_count": 128,
   "metadata": {},
   "outputs": [],
   "source": [
    "y_val_single_value = [np.argmax(y_val[i]) for i in range(len(y_val))]"
   ]
  },
  {
   "cell_type": "code",
   "execution_count": 129,
   "metadata": {},
   "outputs": [
    {
     "data": {
      "text/plain": [
       "<sklearn.metrics._plot.confusion_matrix.ConfusionMatrixDisplay at 0x2d8dfe69490>"
      ]
     },
     "execution_count": 129,
     "metadata": {},
     "output_type": "execute_result"
    },
    {
     "data": {
      "image/png": "[encoded data removed]",
      "text/plain": [
       "<Figure size 432x288 with 2 Axes>"
      ]
     },
     "metadata": {
      "needs_background": "light"
     },
     "output_type": "display_data"
    }
   ],
   "source": [
    "cm = confusion_matrix(y_val_single_value, y_pred_single_value)\n",
    "disp = ConfusionMatrixDisplay(confusion_matrix=cm)\n",
    "disp.plot()"
   ]
  },
  {
   "cell_type": "code",
   "execution_count": null,
   "metadata": {},
   "outputs": [],
   "source": []
  },
  {
   "cell_type": "code",
   "execution_count": null,
   "metadata": {},
   "outputs": [],
   "source": []
  }
 ],
 "metadata": {
  "interpreter": {
   "hash": "cac4749ce6e64bfd07fafd5bf9c175e86cc05b1d81ce0d05824a22ecc489c963"
  },
  "kernel_info": {
   "name": "python38-azureml"
  },
  "kernelspec": {
   "display_name": "Python 3 (ipykernel)",
   "language": "python",
   "name": "python3"
  },
  "language_info": {
   "codemirror_mode": {
    "name": "ipython",
    "version": 3
   },
   "file_extension": ".py",
   "mimetype": "text/x-python",
   "name": "python",
   "nbconvert_exporter": "python",
   "pygments_lexer": "ipython3",
   "version": "3.9.13"
  },
  "microsoft": {
   "host": {
    "AzureML": {
     "notebookHasBeenCompleted": true
    }
   }
  },
  "nteract": {
   "version": "nteract-front-end@1.0.0"
  }
 },
 "nbformat": 4,
 "nbformat_minor": 4
}
